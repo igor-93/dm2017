{
 "cells": [
  {
   "cell_type": "code",
   "execution_count": 62,
   "metadata": {
    "collapsed": true
   },
   "outputs": [],
   "source": [
    "import numpy as np\n",
    "out_articles = open(\"data/ydata_articles.txt\", \"w\")\n",
    "out_logs = open(\"data/ydata_logs.txt\", \"w\")\n",
    "articles = {}\n",
    "with open(\"data/ydata-fp-td-clicks-v1_0.20090501\") as fp:\n",
    "    line = fp.readline()\n",
    "    cnt = 1\n",
    "    while line:\n",
    "        line = line.strip()\n",
    "        parts = line.split('|')\n",
    "        time, article_displayed, click, _ = parts[0].split(' ')\n",
    "        user_features = [''] * 6\n",
    "        for i in range(1, 7):\n",
    "            # print (parts[1].split(' ')[i].split(':'))\n",
    "            f_inx, feature = parts[1].split(' ')[i].split(':')\n",
    "            user_features[int(f_inx) - 1] = feature\n",
    "        choices_articles = []\n",
    "        for article in parts[2:]:\n",
    "            article_features = [''] * 6\n",
    "            article_parts = article.split(' ')\n",
    "            article_id = article_parts[0]\n",
    "            if article_id == '109528':\n",
    "                continue\n",
    "            choices_articles.append(article_id)\n",
    "            for article_feature_part in article_parts[1:]:\n",
    "                if article_feature_part == '':\n",
    "                    continue\n",
    "                af_inx, afeature = article_feature_part.split(':')\n",
    "                if int(af_inx) - 1 < 0 or int(af_inx) - 1 > 5:\n",
    "                    print(cnt)\n",
    "                article_features[int(af_inx) - 1] = afeature\n",
    "            articles[article_id] = article_features\n",
    "        line = fp.readline()\n",
    "        cnt += 1\n",
    "        if article_displayed == '109528':\n",
    "            continue\n",
    "        log_out = str(time) +' ' + ' '.join(user_features) +\\\n",
    "                  ' ' + article_displayed + ' ' + click + ' '\\\n",
    "                  + ' '.join(choices_articles)+'\\n'\n",
    "        out_logs.write(log_out)\n",
    "\n",
    "for a in articles:\n",
    "    a_features = articles[a]\n",
    "    a_out = a + ' ' + ' '.join(a_features)+'\\n'\n",
    "    out_articles.write(a_out)\n",
    "out_articles.close()\n",
    "out_logs.close()"
   ]
  },
  {
   "cell_type": "code",
   "execution_count": null,
   "metadata": {},
   "outputs": [],
   "source": [
    ""
   ]
  }
 ],
 "metadata": {
  "kernelspec": {
   "display_name": "Python 2",
   "language": "python",
   "name": "python2"
  },
  "language_info": {
   "codemirror_mode": {
    "name": "ipython",
    "version": 2.0
   },
   "file_extension": ".py",
   "mimetype": "text/x-python",
   "name": "python",
   "nbconvert_exporter": "python",
   "pygments_lexer": "ipython2",
   "version": "2.7.6"
  }
 },
 "nbformat": 4,
 "nbformat_minor": 0
}